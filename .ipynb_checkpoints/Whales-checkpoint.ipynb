{
 "cells": [
  {
   "cell_type": "markdown",
   "metadata": {},
   "source": [
    "###Section 4 Homework - Using Pandas for Whale Analysis"
   ]
  },
  {
   "cell_type": "markdown",
   "metadata": {},
   "source": [
    "##Prepare the Data"
   ]
  },
  {
   "cell_type": "code",
   "execution_count": 19,
   "metadata": {},
   "outputs": [
    {
     "data": {
      "text/html": [
       "<div>\n",
       "<style scoped>\n",
       "    .dataframe tbody tr th:only-of-type {\n",
       "        vertical-align: middle;\n",
       "    }\n",
       "\n",
       "    .dataframe tbody tr th {\n",
       "        vertical-align: top;\n",
       "    }\n",
       "\n",
       "    .dataframe thead th {\n",
       "        text-align: right;\n",
       "    }\n",
       "</style>\n",
       "<table border=\"1\" class=\"dataframe\">\n",
       "  <thead>\n",
       "    <tr style=\"text-align: right;\">\n",
       "      <th></th>\n",
       "      <th>Close</th>\n",
       "    </tr>\n",
       "    <tr>\n",
       "      <th>Date</th>\n",
       "      <th></th>\n",
       "    </tr>\n",
       "  </thead>\n",
       "  <tbody>\n",
       "    <tr>\n",
       "      <th>2019-04-23</th>\n",
       "      <td>$2933.68</td>\n",
       "    </tr>\n",
       "    <tr>\n",
       "      <th>2019-04-22</th>\n",
       "      <td>$2907.97</td>\n",
       "    </tr>\n",
       "    <tr>\n",
       "      <th>2019-04-18</th>\n",
       "      <td>$2905.03</td>\n",
       "    </tr>\n",
       "    <tr>\n",
       "      <th>2019-04-17</th>\n",
       "      <td>$2900.45</td>\n",
       "    </tr>\n",
       "    <tr>\n",
       "      <th>2019-04-16</th>\n",
       "      <td>$2907.06</td>\n",
       "    </tr>\n",
       "  </tbody>\n",
       "</table>\n",
       "</div>"
      ],
      "text/plain": [
       "               Close\n",
       "Date                \n",
       "2019-04-23  $2933.68\n",
       "2019-04-22  $2907.97\n",
       "2019-04-18  $2905.03\n",
       "2019-04-17  $2900.45\n",
       "2019-04-16  $2907.06"
      ]
     },
     "execution_count": 19,
     "metadata": {},
     "output_type": "execute_result"
    }
   ],
   "source": [
    "#Import Dependencies\n",
    "import pandas as pd\n",
    "%matplotlib inline\n",
    "\n",
    "#Set CSV files to variables.\n",
    "csv_aapl_historical=(\"aapl_historical.csv\")\n",
    "csv_cost_historical=(\"cost_historical.csv\")\n",
    "csv_goog_historical=(\"goog_historical.csv\")\n",
    "\n",
    "csv_algo_returns=(\"algo_returns.csv\")\n",
    "csv_whale_returns=(\"whale_returns.csv\")\n",
    "\n",
    "csv_sp500_history=(\"sp500_history.csv\")\n",
    "\n",
    "#Read in CSV files to dataframes and set DATETIMEINDEX\n",
    "aapl_historical=pd.read_csv(csv_aapl_historical, index_col=\"Trade DATE\", parse_dates=True, infer_datetime_format=True)\n",
    "aapl_historical.head()\n",
    "\n",
    "cost_historical=pd.read_csv(csv_cost_historical, index_col=\"Trade DATE\", parse_dates=True, infer_datetime_format=True)\n",
    "cost_historical.head()\n",
    "\n",
    "goog_historical=pd.read_csv(csv_goog_historical, index_col=\"Trade DATE\", parse_dates=True, infer_datetime_format=True)\n",
    "goog_historical.head()\n",
    "\n",
    "algo_returns=pd.read_csv(csv_algo_returns, index_col=\"Date\", parse_dates=True, infer_datetime_format=True)\n",
    "algo_returns.head()\n",
    "\n",
    "whale_returns=pd.read_csv(csv_whale_returns, index_col=\"Date\", parse_dates=True, infer_datetime_format=True)\n",
    "whale_returns.head()\n",
    "\n",
    "sp500_history=pd.read_csv(csv_sp500_history, index_col=\"Date\", parse_dates=True, infer_datetime_format=True)\n",
    "sp500_history.head()\n",
    "\n",
    "#Remove Null Values\n",
    "\n",
    "#Remove $ signs and convert the data types.\n",
    "\n",
    "#Convert S&P files to daily returns.\n",
    "\n",
    "#Join Whale Returns, Algorithmic returns, and SP500 Returns into single DataFrame. Sort index"
   ]
  },
  {
   "cell_type": "markdown",
   "metadata": {},
   "source": [
    "##Quantitative Analysis"
   ]
  },
  {
   "cell_type": "code",
   "execution_count": null,
   "metadata": {},
   "outputs": [],
   "source": [
    "#Performance Analysis\n",
    "\n",
    "#Calculate Cumulative Returns\n",
    "\n",
    "#Plot Cumulative Returns \n",
    "'''Markdown: \"Does any portfolio outperform the S&P 500? .'''"
   ]
  },
  {
   "cell_type": "code",
   "execution_count": null,
   "metadata": {},
   "outputs": [],
   "source": [
    "#Risk Analysis\n",
    "\n",
    "#Create Box Plots for all returns \n",
    "'''Markdown: Which has largest spread? Which has smallest spread?'''\n",
    "\n",
    "#Calculate the standard deviation for each portfolio. \n",
    "'''Markdown: Which portfolios are riskier than the S&P 500?'''\n",
    "\n",
    "#Calculate annualized standard deviation (252 trading days)."
   ]
  },
  {
   "cell_type": "code",
   "execution_count": null,
   "metadata": {},
   "outputs": [],
   "source": [
    "#Rolling Statistics\n",
    "\n",
    "#Plot the rolling std using 21 day rolling window. Include all portfolios and S&P 500.\n",
    "'''Markdown: Which returns most closely mimic the S&P 500?'''\n",
    "\n",
    "#Construct correlation table for algorithmic, whale, and S&P 500 returns.\n",
    "'''Markdown: Which returns most closely mimic the S&P 500?'''\n",
    "\n",
    "#Choose one portfolio and plot a rolling beta between it's returns and the S&P 500 returns.\n",
    "'''Markdown: Does the portfolio seem sensitive to the movements in the S&P 500?'''\n",
    "\n",
    "#As an alternative - take the expontentially weighted moving average with 21 day half life."
   ]
  },
  {
   "cell_type": "code",
   "execution_count": null,
   "metadata": {},
   "outputs": [],
   "source": [
    "#Plot Sharpe Ratios\n",
    "\n",
    "#Using daily returns, calculate the sharpe ratios. Plot in bar plot.\n",
    "\n",
    "#Determine if algorithmic strategies outperform the market(S&P) and the whales portfolios."
   ]
  },
  {
   "cell_type": "markdown",
   "metadata": {},
   "source": [
    "##Create a custom portfolio"
   ]
  },
  {
   "cell_type": "code",
   "execution_count": null,
   "metadata": {},
   "outputs": [],
   "source": [
    "#Choose 3-5 stocks using Google Finance function. Download data as CSV files. Read in CSV files.\n",
    "\n",
    "#Calculate portfolio returns.\n",
    "\n",
    "#Calculate returns for each stock.\n",
    "\n",
    "#Using return values, calculate weighted returns for entire portfolio (assuming equal shares).\n",
    "\n",
    "#Add portfolio to the dataframe. Rerun analysis.\n",
    "'''Markdown: How does your portfolio fare?'''\n",
    "\n",
    "#Include STD (252 days) for all portfolios\n",
    "\n",
    "#Calculated annualized sharpe ratios and bar plot.\n",
    "\n",
    "#Correlation table.\n",
    "\n",
    "#Plotted Beta\n",
    "\n",
    "'''Markdown: How does your portfolio fare?'''\n",
    "\n"
   ]
  }
 ],
 "metadata": {
  "kernelspec": {
   "display_name": "Python 3",
   "language": "python",
   "name": "python3"
  },
  "language_info": {
   "codemirror_mode": {
    "name": "ipython",
    "version": 3
   },
   "file_extension": ".py",
   "mimetype": "text/x-python",
   "name": "python",
   "nbconvert_exporter": "python",
   "pygments_lexer": "ipython3",
   "version": "3.7.6"
  }
 },
 "nbformat": 4,
 "nbformat_minor": 4
}
