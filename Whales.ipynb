{
 "cells": [
  {
   "cell_type": "markdown",
   "metadata": {},
   "source": [
    "###Section 4 Homework - Using Pandas for Whale Analysis"
   ]
  },
  {
   "cell_type": "markdown",
   "metadata": {},
   "source": [
    "##Prepare the Data"
   ]
  },
  {
   "cell_type": "code",
   "execution_count": null,
   "metadata": {},
   "outputs": [],
   "source": [
    "#Import Dependencies\n",
    "\n",
    "#Set CSV files to variables. Use sort_index to arrange by Date\n",
    "\n",
    "#Read in CSV files to dataframes and set DATETIMEINDEX\n",
    "\n",
    "#Remove Null Values\n",
    "\n",
    "#Remove $ signs and convert the data types.\n",
    "\n",
    "#Convert S&P files to daily returns.\n",
    "\n",
    "#Join dataframes and set columns."
   ]
  },
  {
   "cell_type": "markdown",
   "metadata": {},
   "source": [
    "##Quantitative Analysis"
   ]
  },
  {
   "cell_type": "code",
   "execution_count": null,
   "metadata": {},
   "outputs": [],
   "source": [
    "#Performance Analysis\n",
    "\n",
    "#Calculate Cumulative Returns\n",
    "\n",
    "#Plot Cumulative Returns \n",
    "'''Markdown: \"Does any portfolio outperform the S&P 500? .'''"
   ]
  },
  {
   "cell_type": "code",
   "execution_count": null,
   "metadata": {},
   "outputs": [],
   "source": [
    "#Risk Analysis\n",
    "\n",
    "#Create Box Plots for all returns \n",
    "'''Markdown: Which has largest spread? Which has smallest spread?'''\n",
    "\n",
    "#Calculate the standard deviation for each portfolio. \n",
    "'''Markdown: Which portfolios are riskier than the S&P 500?'''\n",
    "\n",
    "#Calculate annualized standard deviation (252 trading days)."
   ]
  },
  {
   "cell_type": "code",
   "execution_count": null,
   "metadata": {},
   "outputs": [],
   "source": [
    "#Rolling Statistics\n",
    "\n",
    "#Plot the rolling std using 21 day rolling window. Include all portfolios and S&P 500.\n",
    "'''Markdown: Which returns most closely mimic the S&P 500?'''\n",
    "\n",
    "#Construct correlation table for algorithmic, whale, and S&P 500 returns.\n",
    "'''Markdown: Which returns most closely mimic the S&P 500?'''\n",
    "\n",
    "#Choose one portfolio and plot a rolling beta between it's returns and the S&P 500 returns.\n",
    "'''Markdown: Does the portfolio seem sensitive to the movements in the S&P 500?'''\n",
    "\n",
    "#As an alternative - take the expontentially weighted moving average with 21 day half life."
   ]
  },
  {
   "cell_type": "code",
   "execution_count": null,
   "metadata": {},
   "outputs": [],
   "source": [
    "#Plot Sharpe Ratios\n",
    "\n",
    "#Using daily returns, calculate the sharpe ratios. Plot in bar plot.\n",
    "\n",
    "#Determine if algorithmic strategies outperform the market(S&P) and the whales portfolios."
   ]
  },
  {
   "cell_type": "markdown",
   "metadata": {},
   "source": [
    "##Create a custom portfolio"
   ]
  },
  {
   "cell_type": "code",
   "execution_count": null,
   "metadata": {},
   "outputs": [],
   "source": [
    "#Choose 3-5 stocks using Google Finance function. Download data as CSV files. Read in CSV files.\n",
    "\n",
    "#Calculate portfolio returns.\n",
    "\n",
    "#Calculate returns for each stock.\n",
    "\n",
    "#Using return values, calculate weighted returns for entire portfolio (assuming equal shares).\n",
    "\n",
    "#Add portfolio to the dataframe. Rerun analysis.\n",
    "'''Markdown: How does your portfolio fare?'''\n",
    "\n",
    "#Include STD (252 days) for all portfolios\n",
    "\n",
    "#Calculated annualized sharpe ratios and bar plot.\n",
    "\n",
    "#Correlation table.\n",
    "\n",
    "#Plotted Beta\n",
    "\n",
    "'''Markdown: How does your portfolio fare?'''\n",
    "\n"
   ]
  }
 ],
 "metadata": {
  "kernelspec": {
   "display_name": "Python 3",
   "language": "python",
   "name": "python3"
  },
  "language_info": {
   "codemirror_mode": {
    "name": "ipython",
    "version": 3
   },
   "file_extension": ".py",
   "mimetype": "text/x-python",
   "name": "python",
   "nbconvert_exporter": "python",
   "pygments_lexer": "ipython3",
   "version": "3.7.6"
  }
 },
 "nbformat": 4,
 "nbformat_minor": 4
}
